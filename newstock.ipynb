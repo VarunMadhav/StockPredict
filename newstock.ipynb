{
  "nbformat": 4,
  "nbformat_minor": 0,
  "metadata": {
    "colab": {
      "provenance": [],
      "authorship_tag": "ABX9TyNVgGBQ+CZEVCu2zoW97Cgr",
      "include_colab_link": true
    },
    "kernelspec": {
      "name": "python3",
      "display_name": "Python 3"
    },
    "language_info": {
      "name": "python"
    }
  },
  "cells": [
    {
      "cell_type": "markdown",
      "metadata": {
        "id": "view-in-github",
        "colab_type": "text"
      },
      "source": [
        "<a href=\"https://colab.research.google.com/github/VarunMadhav/StockPredict/blob/master/newstock.ipynb\" target=\"_parent\"><img src=\"https://colab.research.google.com/assets/colab-badge.svg\" alt=\"Open In Colab\"/></a>"
      ]
    },
    {
      "cell_type": "code",
      "execution_count": 1,
      "metadata": {
        "colab": {
          "base_uri": "https://localhost:8080/"
        },
        "id": "HPCftL4-37xo",
        "outputId": "b05849f1-7076-4531-c85b-9d7f43afcf90"
      },
      "outputs": [
        {
          "output_type": "stream",
          "name": "stdout",
          "text": [
            "Requirement already satisfied: pandas in /usr/local/lib/python3.10/dist-packages (2.0.3)\n",
            "Requirement already satisfied: numpy in /usr/local/lib/python3.10/dist-packages (1.25.2)\n",
            "Requirement already satisfied: matplotlib in /usr/local/lib/python3.10/dist-packages (3.7.1)\n",
            "Requirement already satisfied: scikit-learn in /usr/local/lib/python3.10/dist-packages (1.2.2)\n",
            "Requirement already satisfied: tensorflow in /usr/local/lib/python3.10/dist-packages (2.15.0)\n",
            "Requirement already satisfied: keras in /usr/local/lib/python3.10/dist-packages (2.15.0)\n",
            "Requirement already satisfied: python-dateutil>=2.8.2 in /usr/local/lib/python3.10/dist-packages (from pandas) (2.8.2)\n",
            "Requirement already satisfied: pytz>=2020.1 in /usr/local/lib/python3.10/dist-packages (from pandas) (2023.4)\n",
            "Requirement already satisfied: tzdata>=2022.1 in /usr/local/lib/python3.10/dist-packages (from pandas) (2024.1)\n",
            "Requirement already satisfied: contourpy>=1.0.1 in /usr/local/lib/python3.10/dist-packages (from matplotlib) (1.2.1)\n",
            "Requirement already satisfied: cycler>=0.10 in /usr/local/lib/python3.10/dist-packages (from matplotlib) (0.12.1)\n",
            "Requirement already satisfied: fonttools>=4.22.0 in /usr/local/lib/python3.10/dist-packages (from matplotlib) (4.51.0)\n",
            "Requirement already satisfied: kiwisolver>=1.0.1 in /usr/local/lib/python3.10/dist-packages (from matplotlib) (1.4.5)\n",
            "Requirement already satisfied: packaging>=20.0 in /usr/local/lib/python3.10/dist-packages (from matplotlib) (24.0)\n",
            "Requirement already satisfied: pillow>=6.2.0 in /usr/local/lib/python3.10/dist-packages (from matplotlib) (9.4.0)\n",
            "Requirement already satisfied: pyparsing>=2.3.1 in /usr/local/lib/python3.10/dist-packages (from matplotlib) (3.1.2)\n",
            "Requirement already satisfied: scipy>=1.3.2 in /usr/local/lib/python3.10/dist-packages (from scikit-learn) (1.11.4)\n",
            "Requirement already satisfied: joblib>=1.1.1 in /usr/local/lib/python3.10/dist-packages (from scikit-learn) (1.4.2)\n",
            "Requirement already satisfied: threadpoolctl>=2.0.0 in /usr/local/lib/python3.10/dist-packages (from scikit-learn) (3.5.0)\n",
            "Requirement already satisfied: absl-py>=1.0.0 in /usr/local/lib/python3.10/dist-packages (from tensorflow) (1.4.0)\n",
            "Requirement already satisfied: astunparse>=1.6.0 in /usr/local/lib/python3.10/dist-packages (from tensorflow) (1.6.3)\n",
            "Requirement already satisfied: flatbuffers>=23.5.26 in /usr/local/lib/python3.10/dist-packages (from tensorflow) (24.3.25)\n",
            "Requirement already satisfied: gast!=0.5.0,!=0.5.1,!=0.5.2,>=0.2.1 in /usr/local/lib/python3.10/dist-packages (from tensorflow) (0.5.4)\n",
            "Requirement already satisfied: google-pasta>=0.1.1 in /usr/local/lib/python3.10/dist-packages (from tensorflow) (0.2.0)\n",
            "Requirement already satisfied: h5py>=2.9.0 in /usr/local/lib/python3.10/dist-packages (from tensorflow) (3.9.0)\n",
            "Requirement already satisfied: libclang>=13.0.0 in /usr/local/lib/python3.10/dist-packages (from tensorflow) (18.1.1)\n",
            "Requirement already satisfied: ml-dtypes~=0.2.0 in /usr/local/lib/python3.10/dist-packages (from tensorflow) (0.2.0)\n",
            "Requirement already satisfied: opt-einsum>=2.3.2 in /usr/local/lib/python3.10/dist-packages (from tensorflow) (3.3.0)\n",
            "Requirement already satisfied: protobuf!=4.21.0,!=4.21.1,!=4.21.2,!=4.21.3,!=4.21.4,!=4.21.5,<5.0.0dev,>=3.20.3 in /usr/local/lib/python3.10/dist-packages (from tensorflow) (3.20.3)\n",
            "Requirement already satisfied: setuptools in /usr/local/lib/python3.10/dist-packages (from tensorflow) (67.7.2)\n",
            "Requirement already satisfied: six>=1.12.0 in /usr/local/lib/python3.10/dist-packages (from tensorflow) (1.16.0)\n",
            "Requirement already satisfied: termcolor>=1.1.0 in /usr/local/lib/python3.10/dist-packages (from tensorflow) (2.4.0)\n",
            "Requirement already satisfied: typing-extensions>=3.6.6 in /usr/local/lib/python3.10/dist-packages (from tensorflow) (4.11.0)\n",
            "Requirement already satisfied: wrapt<1.15,>=1.11.0 in /usr/local/lib/python3.10/dist-packages (from tensorflow) (1.14.1)\n",
            "Requirement already satisfied: tensorflow-io-gcs-filesystem>=0.23.1 in /usr/local/lib/python3.10/dist-packages (from tensorflow) (0.37.0)\n",
            "Requirement already satisfied: grpcio<2.0,>=1.24.3 in /usr/local/lib/python3.10/dist-packages (from tensorflow) (1.63.0)\n",
            "Requirement already satisfied: tensorboard<2.16,>=2.15 in /usr/local/lib/python3.10/dist-packages (from tensorflow) (2.15.2)\n",
            "Requirement already satisfied: tensorflow-estimator<2.16,>=2.15.0 in /usr/local/lib/python3.10/dist-packages (from tensorflow) (2.15.0)\n",
            "Requirement already satisfied: wheel<1.0,>=0.23.0 in /usr/local/lib/python3.10/dist-packages (from astunparse>=1.6.0->tensorflow) (0.43.0)\n",
            "Requirement already satisfied: google-auth<3,>=1.6.3 in /usr/local/lib/python3.10/dist-packages (from tensorboard<2.16,>=2.15->tensorflow) (2.27.0)\n",
            "Requirement already satisfied: google-auth-oauthlib<2,>=0.5 in /usr/local/lib/python3.10/dist-packages (from tensorboard<2.16,>=2.15->tensorflow) (1.2.0)\n",
            "Requirement already satisfied: markdown>=2.6.8 in /usr/local/lib/python3.10/dist-packages (from tensorboard<2.16,>=2.15->tensorflow) (3.6)\n",
            "Requirement already satisfied: requests<3,>=2.21.0 in /usr/local/lib/python3.10/dist-packages (from tensorboard<2.16,>=2.15->tensorflow) (2.31.0)\n",
            "Requirement already satisfied: tensorboard-data-server<0.8.0,>=0.7.0 in /usr/local/lib/python3.10/dist-packages (from tensorboard<2.16,>=2.15->tensorflow) (0.7.2)\n",
            "Requirement already satisfied: werkzeug>=1.0.1 in /usr/local/lib/python3.10/dist-packages (from tensorboard<2.16,>=2.15->tensorflow) (3.0.3)\n",
            "Requirement already satisfied: cachetools<6.0,>=2.0.0 in /usr/local/lib/python3.10/dist-packages (from google-auth<3,>=1.6.3->tensorboard<2.16,>=2.15->tensorflow) (5.3.3)\n",
            "Requirement already satisfied: pyasn1-modules>=0.2.1 in /usr/local/lib/python3.10/dist-packages (from google-auth<3,>=1.6.3->tensorboard<2.16,>=2.15->tensorflow) (0.4.0)\n",
            "Requirement already satisfied: rsa<5,>=3.1.4 in /usr/local/lib/python3.10/dist-packages (from google-auth<3,>=1.6.3->tensorboard<2.16,>=2.15->tensorflow) (4.9)\n",
            "Requirement already satisfied: requests-oauthlib>=0.7.0 in /usr/local/lib/python3.10/dist-packages (from google-auth-oauthlib<2,>=0.5->tensorboard<2.16,>=2.15->tensorflow) (1.3.1)\n",
            "Requirement already satisfied: charset-normalizer<4,>=2 in /usr/local/lib/python3.10/dist-packages (from requests<3,>=2.21.0->tensorboard<2.16,>=2.15->tensorflow) (3.3.2)\n",
            "Requirement already satisfied: idna<4,>=2.5 in /usr/local/lib/python3.10/dist-packages (from requests<3,>=2.21.0->tensorboard<2.16,>=2.15->tensorflow) (3.7)\n",
            "Requirement already satisfied: urllib3<3,>=1.21.1 in /usr/local/lib/python3.10/dist-packages (from requests<3,>=2.21.0->tensorboard<2.16,>=2.15->tensorflow) (2.0.7)\n",
            "Requirement already satisfied: certifi>=2017.4.17 in /usr/local/lib/python3.10/dist-packages (from requests<3,>=2.21.0->tensorboard<2.16,>=2.15->tensorflow) (2024.2.2)\n",
            "Requirement already satisfied: MarkupSafe>=2.1.1 in /usr/local/lib/python3.10/dist-packages (from werkzeug>=1.0.1->tensorboard<2.16,>=2.15->tensorflow) (2.1.5)\n",
            "Requirement already satisfied: pyasn1<0.7.0,>=0.4.6 in /usr/local/lib/python3.10/dist-packages (from pyasn1-modules>=0.2.1->google-auth<3,>=1.6.3->tensorboard<2.16,>=2.15->tensorflow) (0.6.0)\n",
            "Requirement already satisfied: oauthlib>=3.0.0 in /usr/local/lib/python3.10/dist-packages (from requests-oauthlib>=0.7.0->google-auth-oauthlib<2,>=0.5->tensorboard<2.16,>=2.15->tensorflow) (3.2.2)\n"
          ]
        }
      ],
      "source": [
        "pip install pandas numpy matplotlib scikit-learn tensorflow keras"
      ]
    },
    {
      "cell_type": "code",
      "source": [
        "pip install keras"
      ],
      "metadata": {
        "colab": {
          "base_uri": "https://localhost:8080/"
        },
        "id": "yJ56uV_L4noW",
        "outputId": "8dc3063f-23f7-4680-db60-888b718a622c"
      },
      "execution_count": 3,
      "outputs": [
        {
          "output_type": "stream",
          "name": "stdout",
          "text": [
            "Requirement already satisfied: keras in /usr/local/lib/python3.10/dist-packages (2.15.0)\n"
          ]
        }
      ]
    },
    {
      "cell_type": "code",
      "source": [
        "import pandas as pd\n",
        "import numpy as np\n",
        "import matplotlib.pyplot as plt\n",
        "from sklearn.preprocessing import MinMaxScaler\n",
        "from tensorflow.keras.models import Sequential\n",
        "from tensorflow.keras.layers import Dense, LSTM\n",
        "import math\n",
        "from sklearn.metrics import mean_squared_error"
      ],
      "metadata": {
        "id": "1PyxDfkd4XR5"
      },
      "execution_count": 5,
      "outputs": []
    },
    {
      "cell_type": "code",
      "source": [
        "df = pd.read_csv('AAPL.csv')"
      ],
      "metadata": {
        "id": "vSSW-M3x4yTR"
      },
      "execution_count": 6,
      "outputs": []
    },
    {
      "cell_type": "code",
      "source": [
        "df"
      ],
      "metadata": {
        "colab": {
          "base_uri": "https://localhost:8080/",
          "height": 424
        },
        "id": "ncGhFQPK5Jg1",
        "outputId": "81f4b266-9949-408a-d2d5-d77999e38d07"
      },
      "execution_count": 7,
      "outputs": [
        {
          "output_type": "execute_result",
          "data": {
            "text/plain": [
              "            Date        Open        High         Low       Close   Adj Close  \\\n",
              "0     2019-05-20   45.880001   46.087502   45.070000   45.772499   44.174919   \n",
              "1     2019-05-21   46.305000   47.000000   46.174999   46.650002   45.021790   \n",
              "2     2019-05-22   46.165001   46.427502   45.637501   45.695000   44.100105   \n",
              "3     2019-05-23   44.950001   45.134998   44.452499   44.915001   43.347347   \n",
              "4     2019-05-24   45.049999   45.535000   44.654999   44.742500   43.180859   \n",
              "...          ...         ...         ...         ...         ...         ...   \n",
              "1255  2024-05-14  187.509995  188.300003  186.289993  187.429993  187.429993   \n",
              "1256  2024-05-15  187.910004  190.649994  187.369995  189.720001  189.720001   \n",
              "1257  2024-05-16  190.470001  191.100006  189.660004  189.839996  189.839996   \n",
              "1258  2024-05-17  189.509995  190.809998  189.179993  189.869995  189.869995   \n",
              "1259  2024-05-20  189.350006  191.919907  189.009995  191.039993  191.039993   \n",
              "\n",
              "         Volume  \n",
              "0     154449200  \n",
              "1     113459200  \n",
              "2     118994400  \n",
              "3     146118800  \n",
              "4      94858800  \n",
              "...         ...  \n",
              "1255   52393600  \n",
              "1256   70400000  \n",
              "1257   52845200  \n",
              "1258   41260800  \n",
              "1259   44212974  \n",
              "\n",
              "[1260 rows x 7 columns]"
            ],
            "text/html": [
              "\n",
              "  <div id=\"df-e542d826-ce30-40cc-8a09-3b93ba0bc71d\" class=\"colab-df-container\">\n",
              "    <div>\n",
              "<style scoped>\n",
              "    .dataframe tbody tr th:only-of-type {\n",
              "        vertical-align: middle;\n",
              "    }\n",
              "\n",
              "    .dataframe tbody tr th {\n",
              "        vertical-align: top;\n",
              "    }\n",
              "\n",
              "    .dataframe thead th {\n",
              "        text-align: right;\n",
              "    }\n",
              "</style>\n",
              "<table border=\"1\" class=\"dataframe\">\n",
              "  <thead>\n",
              "    <tr style=\"text-align: right;\">\n",
              "      <th></th>\n",
              "      <th>Date</th>\n",
              "      <th>Open</th>\n",
              "      <th>High</th>\n",
              "      <th>Low</th>\n",
              "      <th>Close</th>\n",
              "      <th>Adj Close</th>\n",
              "      <th>Volume</th>\n",
              "    </tr>\n",
              "  </thead>\n",
              "  <tbody>\n",
              "    <tr>\n",
              "      <th>0</th>\n",
              "      <td>2019-05-20</td>\n",
              "      <td>45.880001</td>\n",
              "      <td>46.087502</td>\n",
              "      <td>45.070000</td>\n",
              "      <td>45.772499</td>\n",
              "      <td>44.174919</td>\n",
              "      <td>154449200</td>\n",
              "    </tr>\n",
              "    <tr>\n",
              "      <th>1</th>\n",
              "      <td>2019-05-21</td>\n",
              "      <td>46.305000</td>\n",
              "      <td>47.000000</td>\n",
              "      <td>46.174999</td>\n",
              "      <td>46.650002</td>\n",
              "      <td>45.021790</td>\n",
              "      <td>113459200</td>\n",
              "    </tr>\n",
              "    <tr>\n",
              "      <th>2</th>\n",
              "      <td>2019-05-22</td>\n",
              "      <td>46.165001</td>\n",
              "      <td>46.427502</td>\n",
              "      <td>45.637501</td>\n",
              "      <td>45.695000</td>\n",
              "      <td>44.100105</td>\n",
              "      <td>118994400</td>\n",
              "    </tr>\n",
              "    <tr>\n",
              "      <th>3</th>\n",
              "      <td>2019-05-23</td>\n",
              "      <td>44.950001</td>\n",
              "      <td>45.134998</td>\n",
              "      <td>44.452499</td>\n",
              "      <td>44.915001</td>\n",
              "      <td>43.347347</td>\n",
              "      <td>146118800</td>\n",
              "    </tr>\n",
              "    <tr>\n",
              "      <th>4</th>\n",
              "      <td>2019-05-24</td>\n",
              "      <td>45.049999</td>\n",
              "      <td>45.535000</td>\n",
              "      <td>44.654999</td>\n",
              "      <td>44.742500</td>\n",
              "      <td>43.180859</td>\n",
              "      <td>94858800</td>\n",
              "    </tr>\n",
              "    <tr>\n",
              "      <th>...</th>\n",
              "      <td>...</td>\n",
              "      <td>...</td>\n",
              "      <td>...</td>\n",
              "      <td>...</td>\n",
              "      <td>...</td>\n",
              "      <td>...</td>\n",
              "      <td>...</td>\n",
              "    </tr>\n",
              "    <tr>\n",
              "      <th>1255</th>\n",
              "      <td>2024-05-14</td>\n",
              "      <td>187.509995</td>\n",
              "      <td>188.300003</td>\n",
              "      <td>186.289993</td>\n",
              "      <td>187.429993</td>\n",
              "      <td>187.429993</td>\n",
              "      <td>52393600</td>\n",
              "    </tr>\n",
              "    <tr>\n",
              "      <th>1256</th>\n",
              "      <td>2024-05-15</td>\n",
              "      <td>187.910004</td>\n",
              "      <td>190.649994</td>\n",
              "      <td>187.369995</td>\n",
              "      <td>189.720001</td>\n",
              "      <td>189.720001</td>\n",
              "      <td>70400000</td>\n",
              "    </tr>\n",
              "    <tr>\n",
              "      <th>1257</th>\n",
              "      <td>2024-05-16</td>\n",
              "      <td>190.470001</td>\n",
              "      <td>191.100006</td>\n",
              "      <td>189.660004</td>\n",
              "      <td>189.839996</td>\n",
              "      <td>189.839996</td>\n",
              "      <td>52845200</td>\n",
              "    </tr>\n",
              "    <tr>\n",
              "      <th>1258</th>\n",
              "      <td>2024-05-17</td>\n",
              "      <td>189.509995</td>\n",
              "      <td>190.809998</td>\n",
              "      <td>189.179993</td>\n",
              "      <td>189.869995</td>\n",
              "      <td>189.869995</td>\n",
              "      <td>41260800</td>\n",
              "    </tr>\n",
              "    <tr>\n",
              "      <th>1259</th>\n",
              "      <td>2024-05-20</td>\n",
              "      <td>189.350006</td>\n",
              "      <td>191.919907</td>\n",
              "      <td>189.009995</td>\n",
              "      <td>191.039993</td>\n",
              "      <td>191.039993</td>\n",
              "      <td>44212974</td>\n",
              "    </tr>\n",
              "  </tbody>\n",
              "</table>\n",
              "<p>1260 rows × 7 columns</p>\n",
              "</div>\n",
              "    <div class=\"colab-df-buttons\">\n",
              "\n",
              "  <div class=\"colab-df-container\">\n",
              "    <button class=\"colab-df-convert\" onclick=\"convertToInteractive('df-e542d826-ce30-40cc-8a09-3b93ba0bc71d')\"\n",
              "            title=\"Convert this dataframe to an interactive table.\"\n",
              "            style=\"display:none;\">\n",
              "\n",
              "  <svg xmlns=\"http://www.w3.org/2000/svg\" height=\"24px\" viewBox=\"0 -960 960 960\">\n",
              "    <path d=\"M120-120v-720h720v720H120Zm60-500h600v-160H180v160Zm220 220h160v-160H400v160Zm0 220h160v-160H400v160ZM180-400h160v-160H180v160Zm440 0h160v-160H620v160ZM180-180h160v-160H180v160Zm440 0h160v-160H620v160Z\"/>\n",
              "  </svg>\n",
              "    </button>\n",
              "\n",
              "  <style>\n",
              "    .colab-df-container {\n",
              "      display:flex;\n",
              "      gap: 12px;\n",
              "    }\n",
              "\n",
              "    .colab-df-convert {\n",
              "      background-color: #E8F0FE;\n",
              "      border: none;\n",
              "      border-radius: 50%;\n",
              "      cursor: pointer;\n",
              "      display: none;\n",
              "      fill: #1967D2;\n",
              "      height: 32px;\n",
              "      padding: 0 0 0 0;\n",
              "      width: 32px;\n",
              "    }\n",
              "\n",
              "    .colab-df-convert:hover {\n",
              "      background-color: #E2EBFA;\n",
              "      box-shadow: 0px 1px 2px rgba(60, 64, 67, 0.3), 0px 1px 3px 1px rgba(60, 64, 67, 0.15);\n",
              "      fill: #174EA6;\n",
              "    }\n",
              "\n",
              "    .colab-df-buttons div {\n",
              "      margin-bottom: 4px;\n",
              "    }\n",
              "\n",
              "    [theme=dark] .colab-df-convert {\n",
              "      background-color: #3B4455;\n",
              "      fill: #D2E3FC;\n",
              "    }\n",
              "\n",
              "    [theme=dark] .colab-df-convert:hover {\n",
              "      background-color: #434B5C;\n",
              "      box-shadow: 0px 1px 3px 1px rgba(0, 0, 0, 0.15);\n",
              "      filter: drop-shadow(0px 1px 2px rgba(0, 0, 0, 0.3));\n",
              "      fill: #FFFFFF;\n",
              "    }\n",
              "  </style>\n",
              "\n",
              "    <script>\n",
              "      const buttonEl =\n",
              "        document.querySelector('#df-e542d826-ce30-40cc-8a09-3b93ba0bc71d button.colab-df-convert');\n",
              "      buttonEl.style.display =\n",
              "        google.colab.kernel.accessAllowed ? 'block' : 'none';\n",
              "\n",
              "      async function convertToInteractive(key) {\n",
              "        const element = document.querySelector('#df-e542d826-ce30-40cc-8a09-3b93ba0bc71d');\n",
              "        const dataTable =\n",
              "          await google.colab.kernel.invokeFunction('convertToInteractive',\n",
              "                                                    [key], {});\n",
              "        if (!dataTable) return;\n",
              "\n",
              "        const docLinkHtml = 'Like what you see? Visit the ' +\n",
              "          '<a target=\"_blank\" href=https://colab.research.google.com/notebooks/data_table.ipynb>data table notebook</a>'\n",
              "          + ' to learn more about interactive tables.';\n",
              "        element.innerHTML = '';\n",
              "        dataTable['output_type'] = 'display_data';\n",
              "        await google.colab.output.renderOutput(dataTable, element);\n",
              "        const docLink = document.createElement('div');\n",
              "        docLink.innerHTML = docLinkHtml;\n",
              "        element.appendChild(docLink);\n",
              "      }\n",
              "    </script>\n",
              "  </div>\n",
              "\n",
              "\n",
              "<div id=\"df-1ad118bc-3b11-46bb-a75e-36e27a37e49e\">\n",
              "  <button class=\"colab-df-quickchart\" onclick=\"quickchart('df-1ad118bc-3b11-46bb-a75e-36e27a37e49e')\"\n",
              "            title=\"Suggest charts\"\n",
              "            style=\"display:none;\">\n",
              "\n",
              "<svg xmlns=\"http://www.w3.org/2000/svg\" height=\"24px\"viewBox=\"0 0 24 24\"\n",
              "     width=\"24px\">\n",
              "    <g>\n",
              "        <path d=\"M19 3H5c-1.1 0-2 .9-2 2v14c0 1.1.9 2 2 2h14c1.1 0 2-.9 2-2V5c0-1.1-.9-2-2-2zM9 17H7v-7h2v7zm4 0h-2V7h2v10zm4 0h-2v-4h2v4z\"/>\n",
              "    </g>\n",
              "</svg>\n",
              "  </button>\n",
              "\n",
              "<style>\n",
              "  .colab-df-quickchart {\n",
              "      --bg-color: #E8F0FE;\n",
              "      --fill-color: #1967D2;\n",
              "      --hover-bg-color: #E2EBFA;\n",
              "      --hover-fill-color: #174EA6;\n",
              "      --disabled-fill-color: #AAA;\n",
              "      --disabled-bg-color: #DDD;\n",
              "  }\n",
              "\n",
              "  [theme=dark] .colab-df-quickchart {\n",
              "      --bg-color: #3B4455;\n",
              "      --fill-color: #D2E3FC;\n",
              "      --hover-bg-color: #434B5C;\n",
              "      --hover-fill-color: #FFFFFF;\n",
              "      --disabled-bg-color: #3B4455;\n",
              "      --disabled-fill-color: #666;\n",
              "  }\n",
              "\n",
              "  .colab-df-quickchart {\n",
              "    background-color: var(--bg-color);\n",
              "    border: none;\n",
              "    border-radius: 50%;\n",
              "    cursor: pointer;\n",
              "    display: none;\n",
              "    fill: var(--fill-color);\n",
              "    height: 32px;\n",
              "    padding: 0;\n",
              "    width: 32px;\n",
              "  }\n",
              "\n",
              "  .colab-df-quickchart:hover {\n",
              "    background-color: var(--hover-bg-color);\n",
              "    box-shadow: 0 1px 2px rgba(60, 64, 67, 0.3), 0 1px 3px 1px rgba(60, 64, 67, 0.15);\n",
              "    fill: var(--button-hover-fill-color);\n",
              "  }\n",
              "\n",
              "  .colab-df-quickchart-complete:disabled,\n",
              "  .colab-df-quickchart-complete:disabled:hover {\n",
              "    background-color: var(--disabled-bg-color);\n",
              "    fill: var(--disabled-fill-color);\n",
              "    box-shadow: none;\n",
              "  }\n",
              "\n",
              "  .colab-df-spinner {\n",
              "    border: 2px solid var(--fill-color);\n",
              "    border-color: transparent;\n",
              "    border-bottom-color: var(--fill-color);\n",
              "    animation:\n",
              "      spin 1s steps(1) infinite;\n",
              "  }\n",
              "\n",
              "  @keyframes spin {\n",
              "    0% {\n",
              "      border-color: transparent;\n",
              "      border-bottom-color: var(--fill-color);\n",
              "      border-left-color: var(--fill-color);\n",
              "    }\n",
              "    20% {\n",
              "      border-color: transparent;\n",
              "      border-left-color: var(--fill-color);\n",
              "      border-top-color: var(--fill-color);\n",
              "    }\n",
              "    30% {\n",
              "      border-color: transparent;\n",
              "      border-left-color: var(--fill-color);\n",
              "      border-top-color: var(--fill-color);\n",
              "      border-right-color: var(--fill-color);\n",
              "    }\n",
              "    40% {\n",
              "      border-color: transparent;\n",
              "      border-right-color: var(--fill-color);\n",
              "      border-top-color: var(--fill-color);\n",
              "    }\n",
              "    60% {\n",
              "      border-color: transparent;\n",
              "      border-right-color: var(--fill-color);\n",
              "    }\n",
              "    80% {\n",
              "      border-color: transparent;\n",
              "      border-right-color: var(--fill-color);\n",
              "      border-bottom-color: var(--fill-color);\n",
              "    }\n",
              "    90% {\n",
              "      border-color: transparent;\n",
              "      border-bottom-color: var(--fill-color);\n",
              "    }\n",
              "  }\n",
              "</style>\n",
              "\n",
              "  <script>\n",
              "    async function quickchart(key) {\n",
              "      const quickchartButtonEl =\n",
              "        document.querySelector('#' + key + ' button');\n",
              "      quickchartButtonEl.disabled = true;  // To prevent multiple clicks.\n",
              "      quickchartButtonEl.classList.add('colab-df-spinner');\n",
              "      try {\n",
              "        const charts = await google.colab.kernel.invokeFunction(\n",
              "            'suggestCharts', [key], {});\n",
              "      } catch (error) {\n",
              "        console.error('Error during call to suggestCharts:', error);\n",
              "      }\n",
              "      quickchartButtonEl.classList.remove('colab-df-spinner');\n",
              "      quickchartButtonEl.classList.add('colab-df-quickchart-complete');\n",
              "    }\n",
              "    (() => {\n",
              "      let quickchartButtonEl =\n",
              "        document.querySelector('#df-1ad118bc-3b11-46bb-a75e-36e27a37e49e button');\n",
              "      quickchartButtonEl.style.display =\n",
              "        google.colab.kernel.accessAllowed ? 'block' : 'none';\n",
              "    })();\n",
              "  </script>\n",
              "</div>\n",
              "\n",
              "  <div id=\"id_2da72817-8fb6-4043-990d-9fd97d9c3c55\">\n",
              "    <style>\n",
              "      .colab-df-generate {\n",
              "        background-color: #E8F0FE;\n",
              "        border: none;\n",
              "        border-radius: 50%;\n",
              "        cursor: pointer;\n",
              "        display: none;\n",
              "        fill: #1967D2;\n",
              "        height: 32px;\n",
              "        padding: 0 0 0 0;\n",
              "        width: 32px;\n",
              "      }\n",
              "\n",
              "      .colab-df-generate:hover {\n",
              "        background-color: #E2EBFA;\n",
              "        box-shadow: 0px 1px 2px rgba(60, 64, 67, 0.3), 0px 1px 3px 1px rgba(60, 64, 67, 0.15);\n",
              "        fill: #174EA6;\n",
              "      }\n",
              "\n",
              "      [theme=dark] .colab-df-generate {\n",
              "        background-color: #3B4455;\n",
              "        fill: #D2E3FC;\n",
              "      }\n",
              "\n",
              "      [theme=dark] .colab-df-generate:hover {\n",
              "        background-color: #434B5C;\n",
              "        box-shadow: 0px 1px 3px 1px rgba(0, 0, 0, 0.15);\n",
              "        filter: drop-shadow(0px 1px 2px rgba(0, 0, 0, 0.3));\n",
              "        fill: #FFFFFF;\n",
              "      }\n",
              "    </style>\n",
              "    <button class=\"colab-df-generate\" onclick=\"generateWithVariable('df')\"\n",
              "            title=\"Generate code using this dataframe.\"\n",
              "            style=\"display:none;\">\n",
              "\n",
              "  <svg xmlns=\"http://www.w3.org/2000/svg\" height=\"24px\"viewBox=\"0 0 24 24\"\n",
              "       width=\"24px\">\n",
              "    <path d=\"M7,19H8.4L18.45,9,17,7.55,7,17.6ZM5,21V16.75L18.45,3.32a2,2,0,0,1,2.83,0l1.4,1.43a1.91,1.91,0,0,1,.58,1.4,1.91,1.91,0,0,1-.58,1.4L9.25,21ZM18.45,9,17,7.55Zm-12,3A5.31,5.31,0,0,0,4.9,8.1,5.31,5.31,0,0,0,1,6.5,5.31,5.31,0,0,0,4.9,4.9,5.31,5.31,0,0,0,6.5,1,5.31,5.31,0,0,0,8.1,4.9,5.31,5.31,0,0,0,12,6.5,5.46,5.46,0,0,0,6.5,12Z\"/>\n",
              "  </svg>\n",
              "    </button>\n",
              "    <script>\n",
              "      (() => {\n",
              "      const buttonEl =\n",
              "        document.querySelector('#id_2da72817-8fb6-4043-990d-9fd97d9c3c55 button.colab-df-generate');\n",
              "      buttonEl.style.display =\n",
              "        google.colab.kernel.accessAllowed ? 'block' : 'none';\n",
              "\n",
              "      buttonEl.onclick = () => {\n",
              "        google.colab.notebook.generateWithVariable('df');\n",
              "      }\n",
              "      })();\n",
              "    </script>\n",
              "  </div>\n",
              "\n",
              "    </div>\n",
              "  </div>\n"
            ],
            "application/vnd.google.colaboratory.intrinsic+json": {
              "type": "dataframe",
              "variable_name": "df",
              "summary": "{\n  \"name\": \"df\",\n  \"rows\": 1260,\n  \"fields\": [\n    {\n      \"column\": \"Date\",\n      \"properties\": {\n        \"dtype\": \"object\",\n        \"num_unique_values\": 1260,\n        \"samples\": [\n          \"2019-09-06\",\n          \"2023-06-15\",\n          \"2019-07-22\"\n        ],\n        \"semantic_type\": \"\",\n        \"description\": \"\"\n      }\n    },\n    {\n      \"column\": \"Open\",\n      \"properties\": {\n        \"dtype\": \"number\",\n        \"std\": 42.97431229704386,\n        \"min\": 43.860001,\n        \"max\": 198.020004,\n        \"num_unique_values\": 1196,\n        \"samples\": [\n          169.929993,\n          79.457497,\n          185.520004\n        ],\n        \"semantic_type\": \"\",\n        \"description\": \"\"\n      }\n    },\n    {\n      \"column\": \"High\",\n      \"properties\": {\n        \"dtype\": \"number\",\n        \"std\": 43.289741693547015,\n        \"min\": 44.48,\n        \"max\": 199.619995,\n        \"num_unique_values\": 1199,\n        \"samples\": [\n          170.649994,\n          144.5,\n          59.532501\n        ],\n        \"semantic_type\": \"\",\n        \"description\": \"\"\n      }\n    },\n    {\n      \"column\": \"Low\",\n      \"properties\": {\n        \"dtype\": \"number\",\n        \"std\": 42.65051274623209,\n        \"min\": 42.567501,\n        \"max\": 197.0,\n        \"num_unique_values\": 1212,\n        \"samples\": [\n          167.139999,\n          170.25,\n          51.822498\n        ],\n        \"semantic_type\": \"\",\n        \"description\": \"\"\n      }\n    },\n    {\n      \"column\": \"Close\",\n      \"properties\": {\n        \"dtype\": \"number\",\n        \"std\": 42.97957804965241,\n        \"min\": 43.325001,\n        \"max\": 198.110001,\n        \"num_unique_values\": 1199,\n        \"samples\": [\n          176.550003,\n          147.809998,\n          59.052502\n        ],\n        \"semantic_type\": \"\",\n        \"description\": \"\"\n      }\n    },\n    {\n      \"column\": \"Adj Close\",\n      \"properties\": {\n        \"dtype\": \"number\",\n        \"std\": 43.28645012942691,\n        \"min\": 41.812832,\n        \"max\": 197.589523,\n        \"num_unique_values\": 1247,\n        \"samples\": [\n          173.39682,\n          192.91185,\n          131.149551\n        ],\n        \"semantic_type\": \"\",\n        \"description\": \"\"\n      }\n    },\n    {\n      \"column\": \"Volume\",\n      \"properties\": {\n        \"dtype\": \"number\",\n        \"std\": 51838809,\n        \"min\": 24048300,\n        \"max\": 426510000,\n        \"num_unique_values\": 1258,\n        \"samples\": [\n          69023100,\n          166795600,\n          216071600\n        ],\n        \"semantic_type\": \"\",\n        \"description\": \"\"\n      }\n    }\n  ]\n}"
            }
          },
          "metadata": {},
          "execution_count": 7
        }
      ]
    },
    {
      "cell_type": "code",
      "source": [
        "df1 = df.reset_index()['Close']"
      ],
      "metadata": {
        "id": "XxmRgD6A5MQP"
      },
      "execution_count": 9,
      "outputs": []
    },
    {
      "cell_type": "code",
      "source": [
        "plt.plot(df1)\n",
        "plt.show()"
      ],
      "metadata": {
        "colab": {
          "base_uri": "https://localhost:8080/",
          "height": 430
        },
        "id": "yMg9p75K5SXw",
        "outputId": "ce1705c1-f1cd-4ac8-ef9c-ecc3cabe8726"
      },
      "execution_count": 10,
      "outputs": [
        {
          "output_type": "display_data",
          "data": {
            "text/plain": [
              "<Figure size 640x480 with 1 Axes>"
            ],
            "image/png": "[encoded data removed]"
          },
          "metadata": {}
        }
      ]
    },
    {
      "cell_type": "code",
      "source": [
        "scaler = MinMaxScaler(feature_range=(0, 1))\n",
        "df1 = scaler.fit_transform(np.array(df1).reshape(-1, 1))"
      ],
      "metadata": {
        "id": "BqQ2KQjL5VT4"
      },
      "execution_count": 11,
      "outputs": []
    },
    {
      "cell_type": "code",
      "source": [
        "training_size = int(len(df1) * 0.65)\n",
        "test_size = len(df1) - training_size\n",
        "train_data, test_data = df1[0:training_size, :], df1[training_size:len(df1), :1]"
      ],
      "metadata": {
        "id": "yQDb3PeE5YoE"
      },
      "execution_count": 12,
      "outputs": []
    },
    {
      "cell_type": "code",
      "source": [
        "def create_dataset(dataset, time_step=1):\n",
        "    dataX, dataY = [], []\n",
        "    for i in range(len(dataset) - time_step - 1):\n",
        "        a = dataset[i:(i + time_step), 0]\n",
        "        dataX.append(a)\n",
        "        dataY.append(dataset[i + time_step, 0])\n",
        "    return np.array(dataX), np.array(dataY)"
      ],
      "metadata": {
        "id": "_p-DZMG35cNn"
      },
      "execution_count": 13,
      "outputs": []
    },
    {
      "cell_type": "code",
      "source": [
        "time_step = 100\n",
        "X_train, y_train = create_dataset(train_data, time_step)\n",
        "X_test, ytest = create_dataset(test_data, time_step)\n",
        "\n",
        "X_train = X_train.reshape(X_train.shape[0], X_train.shape[1], 1)\n",
        "X_test = X_test.reshape(X_test.shape[0], X_test.shape[1], 1)"
      ],
      "metadata": {
        "id": "DVmEmCQD5eMm"
      },
      "execution_count": 14,
      "outputs": []
    },
    {
      "cell_type": "code",
      "source": [
        "model = Sequential()\n",
        "model.add(LSTM(50, return_sequences=True, input_shape=(100, 1)))\n",
        "model.add(LSTM(50, return_sequences=True))\n",
        "model.add(LSTM(50))\n",
        "model.add(Dense(1))\n",
        "model.compile(loss='mean_squared_error', optimizer='adam')"
      ],
      "metadata": {
        "id": "Z2CZw-lB5g9p"
      },
      "execution_count": 15,
      "outputs": []
    },
    {
      "cell_type": "code",
      "source": [
        "model.fit(X_train, y_train, validation_data=(X_test, ytest), epochs=100, batch_size=64, verbose=1)"
      ],
      "metadata": {
        "colab": {
          "base_uri": "https://localhost:8080/"
        },
        "id": "j5ntlkD45kiN",
        "outputId": "738cb146-6876-49bd-f5a4-06a3f0abec18"
      },
      "execution_count": 16,
      "outputs": [
        {
          "output_type": "stream",
          "name": "stdout",
          "text": [
            "Epoch 1/100\n",
            "12/12 [==============================] - 10s 314ms/step - loss: 0.0974 - val_loss: 0.0255\n",
            "Epoch 2/100\n",
            "12/12 [==============================] - 2s 162ms/step - loss: 0.0140 - val_loss: 0.0017\n",
            "Epoch 3/100\n",
            "12/12 [==============================] - 2s 163ms/step - loss: 0.0072 - val_loss: 0.0205\n",
            "Epoch 4/100\n",
            "12/12 [==============================] - 2s 163ms/step - loss: 0.0041 - val_loss: 0.0032\n",
            "Epoch 5/100\n",
            "12/12 [==============================] - 3s 258ms/step - loss: 0.0023 - val_loss: 0.0019\n",
            "Epoch 6/100\n",
            "12/12 [==============================] - 2s 184ms/step - loss: 0.0020 - val_loss: 0.0017\n",
            "Epoch 7/100\n",
            "12/12 [==============================] - 2s 172ms/step - loss: 0.0020 - val_loss: 0.0018\n",
            "Epoch 8/100\n",
            "12/12 [==============================] - 2s 171ms/step - loss: 0.0021 - val_loss: 0.0018\n",
            "Epoch 9/100\n",
            "12/12 [==============================] - 2s 182ms/step - loss: 0.0019 - val_loss: 0.0021\n",
            "Epoch 10/100\n",
            "12/12 [==============================] - 2s 168ms/step - loss: 0.0019 - val_loss: 0.0021\n",
            "Epoch 11/100\n",
            "12/12 [==============================] - 4s 315ms/step - loss: 0.0019 - val_loss: 0.0021\n",
            "Epoch 12/100\n",
            "12/12 [==============================] - 2s 161ms/step - loss: 0.0019 - val_loss: 0.0018\n",
            "Epoch 13/100\n",
            "12/12 [==============================] - 2s 161ms/step - loss: 0.0020 - val_loss: 0.0021\n",
            "Epoch 14/100\n",
            "12/12 [==============================] - 2s 163ms/step - loss: 0.0019 - val_loss: 0.0023\n",
            "Epoch 15/100\n",
            "12/12 [==============================] - 2s 180ms/step - loss: 0.0019 - val_loss: 0.0015\n",
            "Epoch 16/100\n",
            "12/12 [==============================] - 4s 286ms/step - loss: 0.0020 - val_loss: 0.0015\n",
            "Epoch 17/100\n",
            "12/12 [==============================] - 3s 221ms/step - loss: 0.0019 - val_loss: 0.0014\n",
            "Epoch 18/100\n",
            "12/12 [==============================] - 2s 161ms/step - loss: 0.0017 - val_loss: 0.0015\n",
            "Epoch 19/100\n",
            "12/12 [==============================] - 2s 164ms/step - loss: 0.0016 - val_loss: 0.0018\n",
            "Epoch 20/100\n",
            "12/12 [==============================] - 2s 170ms/step - loss: 0.0017 - val_loss: 0.0024\n",
            "Epoch 21/100\n",
            "12/12 [==============================] - 2s 168ms/step - loss: 0.0017 - val_loss: 0.0019\n",
            "Epoch 22/100\n",
            "12/12 [==============================] - 2s 189ms/step - loss: 0.0016 - val_loss: 0.0019\n",
            "Epoch 23/100\n",
            "12/12 [==============================] - 3s 248ms/step - loss: 0.0015 - val_loss: 0.0016\n",
            "Epoch 24/100\n",
            "12/12 [==============================] - 2s 161ms/step - loss: 0.0015 - val_loss: 0.0017\n",
            "Epoch 25/100\n",
            "12/12 [==============================] - 2s 179ms/step - loss: 0.0014 - val_loss: 0.0020\n",
            "Epoch 26/100\n",
            "12/12 [==============================] - 2s 160ms/step - loss: 0.0014 - val_loss: 0.0018\n",
            "Epoch 27/100\n",
            "12/12 [==============================] - 2s 161ms/step - loss: 0.0013 - val_loss: 0.0012\n",
            "Epoch 28/100\n",
            "12/12 [==============================] - 2s 197ms/step - loss: 0.0015 - val_loss: 0.0014\n",
            "Epoch 29/100\n",
            "12/12 [==============================] - 3s 267ms/step - loss: 0.0016 - val_loss: 0.0052\n",
            "Epoch 30/100\n",
            "12/12 [==============================] - 2s 164ms/step - loss: 0.0015 - val_loss: 0.0011\n",
            "Epoch 31/100\n",
            "12/12 [==============================] - 2s 162ms/step - loss: 0.0013 - val_loss: 0.0027\n",
            "Epoch 32/100\n",
            "12/12 [==============================] - 2s 179ms/step - loss: 0.0013 - val_loss: 0.0019\n",
            "Epoch 33/100\n",
            "12/12 [==============================] - 2s 167ms/step - loss: 0.0016 - val_loss: 0.0013\n",
            "Epoch 34/100\n",
            "12/12 [==============================] - 2s 203ms/step - loss: 0.0012 - val_loss: 0.0024\n",
            "Epoch 35/100\n",
            "12/12 [==============================] - 3s 266ms/step - loss: 0.0012 - val_loss: 0.0017\n",
            "Epoch 36/100\n",
            "12/12 [==============================] - 2s 208ms/step - loss: 0.0012 - val_loss: 0.0010\n",
            "Epoch 37/100\n",
            "12/12 [==============================] - 2s 208ms/step - loss: 0.0014 - val_loss: 0.0033\n",
            "Epoch 38/100\n",
            "12/12 [==============================] - 2s 164ms/step - loss: 0.0012 - val_loss: 9.8113e-04\n",
            "Epoch 39/100\n",
            "12/12 [==============================] - 2s 165ms/step - loss: 0.0011 - val_loss: 0.0014\n",
            "Epoch 40/100\n",
            "12/12 [==============================] - 3s 248ms/step - loss: 0.0011 - val_loss: 9.5797e-04\n",
            "Epoch 41/100\n",
            "12/12 [==============================] - 3s 232ms/step - loss: 0.0011 - val_loss: 0.0021\n",
            "Epoch 42/100\n",
            "12/12 [==============================] - 2s 167ms/step - loss: 0.0011 - val_loss: 9.2748e-04\n",
            "Epoch 43/100\n",
            "12/12 [==============================] - 2s 164ms/step - loss: 0.0010 - val_loss: 0.0017\n",
            "Epoch 44/100\n",
            "12/12 [==============================] - 2s 162ms/step - loss: 0.0010 - val_loss: 0.0022\n",
            "Epoch 45/100\n",
            "12/12 [==============================] - 2s 163ms/step - loss: 0.0010 - val_loss: 0.0012\n",
            "Epoch 46/100\n",
            "12/12 [==============================] - 3s 239ms/step - loss: 0.0011 - val_loss: 0.0030\n",
            "Epoch 47/100\n",
            "12/12 [==============================] - 3s 236ms/step - loss: 0.0012 - val_loss: 0.0011\n",
            "Epoch 48/100\n",
            "12/12 [==============================] - 2s 167ms/step - loss: 0.0011 - val_loss: 0.0023\n",
            "Epoch 49/100\n",
            "12/12 [==============================] - 2s 167ms/step - loss: 0.0010 - val_loss: 0.0016\n",
            "Epoch 50/100\n",
            "12/12 [==============================] - 2s 166ms/step - loss: 9.8839e-04 - val_loss: 9.1644e-04\n",
            "Epoch 51/100\n",
            "12/12 [==============================] - 2s 181ms/step - loss: 0.0010 - val_loss: 0.0019\n",
            "Epoch 52/100\n",
            "12/12 [==============================] - 3s 255ms/step - loss: 9.9509e-04 - val_loss: 0.0012\n",
            "Epoch 53/100\n",
            "12/12 [==============================] - 3s 223ms/step - loss: 9.5763e-04 - val_loss: 7.7225e-04\n",
            "Epoch 54/100\n",
            "12/12 [==============================] - 2s 169ms/step - loss: 0.0011 - val_loss: 0.0044\n",
            "Epoch 55/100\n",
            "12/12 [==============================] - 2s 164ms/step - loss: 0.0012 - val_loss: 0.0011\n",
            "Epoch 56/100\n",
            "12/12 [==============================] - 2s 166ms/step - loss: 0.0010 - val_loss: 0.0016\n",
            "Epoch 57/100\n",
            "12/12 [==============================] - 2s 170ms/step - loss: 9.2939e-04 - val_loss: 6.9328e-04\n",
            "Epoch 58/100\n",
            "12/12 [==============================] - 3s 264ms/step - loss: 8.9390e-04 - val_loss: 8.4068e-04\n",
            "Epoch 59/100\n",
            "12/12 [==============================] - 2s 184ms/step - loss: 8.3452e-04 - val_loss: 8.6834e-04\n",
            "Epoch 60/100\n",
            "12/12 [==============================] - 2s 183ms/step - loss: 9.1741e-04 - val_loss: 6.9109e-04\n",
            "Epoch 61/100\n",
            "12/12 [==============================] - 2s 164ms/step - loss: 9.4185e-04 - val_loss: 6.4950e-04\n",
            "Epoch 62/100\n",
            "12/12 [==============================] - 2s 176ms/step - loss: 8.7917e-04 - val_loss: 9.0110e-04\n",
            "Epoch 63/100\n",
            "12/12 [==============================] - 2s 165ms/step - loss: 9.1447e-04 - val_loss: 8.4767e-04\n",
            "Epoch 64/100\n",
            "12/12 [==============================] - 3s 269ms/step - loss: 8.8557e-04 - val_loss: 0.0015\n",
            "Epoch 65/100\n",
            "12/12 [==============================] - 2s 166ms/step - loss: 8.3402e-04 - val_loss: 8.2963e-04\n",
            "Epoch 66/100\n",
            "12/12 [==============================] - 2s 173ms/step - loss: 8.6893e-04 - val_loss: 0.0011\n",
            "Epoch 67/100\n",
            "12/12 [==============================] - 2s 194ms/step - loss: 8.9161e-04 - val_loss: 6.9393e-04\n",
            "Epoch 68/100\n",
            "12/12 [==============================] - 2s 169ms/step - loss: 7.7467e-04 - val_loss: 0.0010\n",
            "Epoch 69/100\n",
            "12/12 [==============================] - 2s 171ms/step - loss: 8.0679e-04 - val_loss: 5.9878e-04\n",
            "Epoch 70/100\n",
            "12/12 [==============================] - 3s 289ms/step - loss: 8.3146e-04 - val_loss: 0.0010\n",
            "Epoch 71/100\n",
            "12/12 [==============================] - 2s 167ms/step - loss: 7.4949e-04 - val_loss: 5.7706e-04\n",
            "Epoch 72/100\n",
            "12/12 [==============================] - 2s 203ms/step - loss: 7.6968e-04 - val_loss: 6.0773e-04\n",
            "Epoch 73/100\n",
            "12/12 [==============================] - 3s 229ms/step - loss: 8.5454e-04 - val_loss: 0.0017\n",
            "Epoch 74/100\n",
            "12/12 [==============================] - 2s 179ms/step - loss: 8.2910e-04 - val_loss: 7.1877e-04\n",
            "Epoch 75/100\n",
            "12/12 [==============================] - 3s 257ms/step - loss: 6.8367e-04 - val_loss: 5.6268e-04\n",
            "Epoch 76/100\n",
            "12/12 [==============================] - 2s 191ms/step - loss: 6.7759e-04 - val_loss: 0.0017\n",
            "Epoch 77/100\n",
            "12/12 [==============================] - 2s 196ms/step - loss: 8.6814e-04 - val_loss: 0.0012\n",
            "Epoch 78/100\n",
            "12/12 [==============================] - 2s 208ms/step - loss: 8.2391e-04 - val_loss: 8.0006e-04\n",
            "Epoch 79/100\n",
            "12/12 [==============================] - 2s 179ms/step - loss: 8.7855e-04 - val_loss: 0.0016\n",
            "Epoch 80/100\n",
            "12/12 [==============================] - 2s 185ms/step - loss: 7.3109e-04 - val_loss: 5.5790e-04\n",
            "Epoch 81/100\n",
            "12/12 [==============================] - 3s 276ms/step - loss: 6.8008e-04 - val_loss: 5.5849e-04\n",
            "Epoch 82/100\n",
            "12/12 [==============================] - 2s 171ms/step - loss: 6.2436e-04 - val_loss: 5.2787e-04\n",
            "Epoch 83/100\n",
            "12/12 [==============================] - 2s 167ms/step - loss: 6.4787e-04 - val_loss: 5.0285e-04\n",
            "Epoch 84/100\n",
            "12/12 [==============================] - 2s 165ms/step - loss: 6.1395e-04 - val_loss: 6.4693e-04\n",
            "Epoch 85/100\n",
            "12/12 [==============================] - 2s 172ms/step - loss: 6.0486e-04 - val_loss: 4.5268e-04\n",
            "Epoch 86/100\n",
            "12/12 [==============================] - 3s 218ms/step - loss: 5.8650e-04 - val_loss: 4.6690e-04\n",
            "Epoch 87/100\n",
            "12/12 [==============================] - 3s 257ms/step - loss: 6.2679e-04 - val_loss: 5.1608e-04\n",
            "Epoch 88/100\n",
            "12/12 [==============================] - 2s 191ms/step - loss: 6.1585e-04 - val_loss: 5.8041e-04\n",
            "Epoch 89/100\n",
            "12/12 [==============================] - 2s 192ms/step - loss: 5.7405e-04 - val_loss: 8.8820e-04\n",
            "Epoch 90/100\n",
            "12/12 [==============================] - 2s 188ms/step - loss: 6.2462e-04 - val_loss: 6.2561e-04\n",
            "Epoch 91/100\n",
            "12/12 [==============================] - 2s 189ms/step - loss: 7.7264e-04 - val_loss: 4.3443e-04\n",
            "Epoch 92/100\n",
            "12/12 [==============================] - 3s 300ms/step - loss: 6.9025e-04 - val_loss: 5.6636e-04\n",
            "Epoch 93/100\n",
            "12/12 [==============================] - 3s 206ms/step - loss: 5.8202e-04 - val_loss: 4.2282e-04\n",
            "Epoch 94/100\n",
            "12/12 [==============================] - 2s 173ms/step - loss: 5.5582e-04 - val_loss: 0.0011\n",
            "Epoch 95/100\n",
            "12/12 [==============================] - 2s 166ms/step - loss: 6.5365e-04 - val_loss: 8.6746e-04\n",
            "Epoch 96/100\n",
            "12/12 [==============================] - 2s 178ms/step - loss: 6.6927e-04 - val_loss: 0.0024\n",
            "Epoch 97/100\n",
            "12/12 [==============================] - 3s 215ms/step - loss: 7.8760e-04 - val_loss: 4.6827e-04\n",
            "Epoch 98/100\n",
            "12/12 [==============================] - 3s 255ms/step - loss: 6.2184e-04 - val_loss: 5.8277e-04\n",
            "Epoch 99/100\n",
            "12/12 [==============================] - 2s 175ms/step - loss: 5.4072e-04 - val_loss: 4.9646e-04\n",
            "Epoch 100/100\n",
            "12/12 [==============================] - 2s 164ms/step - loss: 5.5036e-04 - val_loss: 9.7505e-04\n"
          ]
        },
        {
          "output_type": "execute_result",
          "data": {
            "text/plain": [
              "<keras.src.callbacks.History at 0x78144a230f70>"
            ]
          },
          "metadata": {},
          "execution_count": 16
        }
      ]
    },
    {
      "cell_type": "code",
      "source": [
        "train_predict = model.predict(X_train)\n",
        "test_predict = model.predict(X_test)\n",
        "train_predict = scaler.inverse_transform(train_predict)\n",
        "test_predict = scaler.inverse_transform(test_predict)"
      ],
      "metadata": {
        "colab": {
          "base_uri": "https://localhost:8080/"
        },
        "id": "9MNR7ZQJ6pJn",
        "outputId": "3e0abdb4-0b33-4cf5-eb56-6b7b2f40303f"
      },
      "execution_count": 18,
      "outputs": [
        {
          "output_type": "stream",
          "name": "stdout",
          "text": [
            "23/23 [==============================] - 2s 33ms/step\n",
            "11/11 [==============================] - 0s 32ms/step\n"
          ]
        }
      ]
    },
    {
      "cell_type": "code",
      "source": [
        "print(f\"Train RMSE: {math.sqrt(mean_squared_error(y_train, train_predict))}\")\n",
        "print(f\"Test RMSE: {math.sqrt(mean_squared_error(ytest, test_predict))}\")"
      ],
      "metadata": {
        "colab": {
          "base_uri": "https://localhost:8080/"
        },
        "id": "e9i9jGLu675G",
        "outputId": "90a749d6-d0de-4252-f735-06a54d4e201e"
      },
      "execution_count": 19,
      "outputs": [
        {
          "output_type": "stream",
          "name": "stdout",
          "text": [
            "Train RMSE: 125.54567533763354\n",
            "Test RMSE: 171.1692862716244\n"
          ]
        }
      ]
    },
    {
      "cell_type": "code",
      "source": [
        "look_back = 100\n",
        "trainPredictPlot = np.empty_like(df1)\n",
        "trainPredictPlot[:, :] = np.nan\n",
        "trainPredictPlot[look_back:len(train_predict) + look_back, :] = train_predict\n",
        "testPredictPlot = np.empty_like(df1)\n",
        "testPredictPlot[:, :] = np.nan\n",
        "testPredictPlot[len(train_predict) + (look_back * 2) + 1:len(df1) - 1, :] = test_predict\n",
        "plt.plot(scaler.inverse_transform(df1))\n",
        "plt.plot(trainPredictPlot)\n",
        "plt.plot(testPredictPlot)\n",
        "plt.show()"
      ],
      "metadata": {
        "colab": {
          "base_uri": "https://localhost:8080/",
          "height": 430
        },
        "id": "-CAvWrf-6-x8",
        "outputId": "ef15f185-2643-44b1-91fd-3ac83dad679e"
      },
      "execution_count": 20,
      "outputs": [
        {
          "output_type": "display_data",
          "data": {
            "text/plain": [
              "<Figure size 640x480 with 1 Axes>"
            ],
            "image/png": "[encoded data removed]"
          },
          "metadata": {}
        }
      ]
    },
    {
      "cell_type": "code",
      "source": [
        "x_input = test_data[len(test_data) - time_step:].reshape(1, -1)\n",
        "temp_input = list(x_input[0])"
      ],
      "metadata": {
        "id": "Q101JlZ87BYb"
      },
      "execution_count": 21,
      "outputs": []
    },
    {
      "cell_type": "code",
      "source": [
        "lst_output = []\n",
        "n_steps = time_step\n",
        "i = 0\n",
        "while i < 200:\n",
        "    if len(temp_input) > 100:\n",
        "        x_input = np.array(temp_input[1:])\n",
        "        x_input = x_input.reshape(1, -1)\n",
        "        x_input = x_input.reshape((1, n_steps, 1))\n",
        "        yhat = model.predict(x_input, verbose=0)\n",
        "        temp_input.extend(yhat[0].tolist())\n",
        "        temp_input = temp_input[1:]\n",
        "        lst_output.extend(yhat.tolist())\n",
        "        i += 1\n",
        "    else:\n",
        "        x_input = x_input.reshape((1, n_steps, 1))\n",
        "        yhat = model.predict(x_input, verbose=0)\n",
        "        temp_input.extend(yhat[0].tolist())\n",
        "        lst_output.extend(yhat.tolist())\n",
        "        i += 1"
      ],
      "metadata": {
        "id": "ZxrMz1rU7EB0"
      },
      "execution_count": 22,
      "outputs": []
    },
    {
      "cell_type": "code",
      "source": [
        "predicted_value_after_200_days = scaler.inverse_transform(np.array(lst_output[-1]).reshape(-1, 1))"
      ],
      "metadata": {
        "id": "qiNvvJCq7MAg"
      },
      "execution_count": 24,
      "outputs": []
    },
    {
      "cell_type": "code",
      "source": [
        "print(f\"Predicted stock value after 200 days: {predicted_value_after_200_days[0][0]}\")"
      ],
      "metadata": {
        "colab": {
          "base_uri": "https://localhost:8080/"
        },
        "id": "nM1NAzcD7i8w",
        "outputId": "f2d8ad7c-78ca-4fc5-dce2-40dfc4b7aad3"
      },
      "execution_count": 25,
      "outputs": [
        {
          "output_type": "stream",
          "name": "stdout",
          "text": [
            "Predicted stock value after 200 days: 106.52176713271238\n"
          ]
        }
      ]
    }
  ]
}